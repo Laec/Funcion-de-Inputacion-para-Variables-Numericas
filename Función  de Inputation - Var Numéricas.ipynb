{
 "cells": [
  {
   "cell_type": "code",
   "execution_count": 1,
   "id": "820e3a8d",
   "metadata": {},
   "outputs": [],
   "source": [
    "import pandas as pd\n",
    "import matplotlib.pyplot as plt\n",
    "import seaborn as sns\n",
    "\n",
    "def Drop_col(df,Porcentaje):\n",
    "    #Calculo de % de missing values\n",
    "    porcentajes_col = df.isnull().sum().sort_values(ascending=False) / len(df)\n",
    "    #Columnas con más del 80% de missing values\n",
    "    columnas_drop = porcentajes_col[porcentajes_col > Porcentaje].index\n",
    "    #drop de las columnas\n",
    "    df2 = df.drop(columnas_drop, axis =1)\n",
    "    return df2, porcentajes_col\n",
    "    \n",
    "def Inputation_val(columna):\n",
    "    #Retorna la moda de la columna si la moda está más cerca a la mediana, en caso contraio retorna la media\n",
    "    return [columna.mode()[0],\"moda\"] if abs(columna.median()-columna.mode()[0]) < abs(columna.median()-columna.mean()) else [columna.mean(),\"Media\"]\n",
    "\n",
    "def Inputation(df):\n",
    "    lista_Cat = []\n",
    "    df2, porcentajes_col = Drop_col(df,0.4)\n",
    "    for i in porcentajes_col.index:\n",
    "        if df2[i].dtypes == 'float64' or df2[i].dtypes == \"int64\":\n",
    "            #inputacion de la columna numérica\n",
    "            df2[i].fillna(Inputation_val(df2[i])[0],inplace = True)\n",
    "            print(i,\" \",Inputation_val(df2[i])[1])\n",
    "        if df2[i].dtypes == \"O\":\n",
    "            lista_Cat.append(i)\n",
    "    return df2"
   ]
  },
  {
   "cell_type": "code",
   "execution_count": 2,
   "id": "a70d1ecb",
   "metadata": {
    "scrolled": true
   },
   "outputs": [
    {
     "data": {
      "text/html": [
       "<div>\n",
       "<style scoped>\n",
       "    .dataframe tbody tr th:only-of-type {\n",
       "        vertical-align: middle;\n",
       "    }\n",
       "\n",
       "    .dataframe tbody tr th {\n",
       "        vertical-align: top;\n",
       "    }\n",
       "\n",
       "    .dataframe thead th {\n",
       "        text-align: right;\n",
       "    }\n",
       "</style>\n",
       "<table border=\"1\" class=\"dataframe\">\n",
       "  <thead>\n",
       "    <tr style=\"text-align: right;\">\n",
       "      <th></th>\n",
       "      <th>No</th>\n",
       "      <th>year</th>\n",
       "      <th>month</th>\n",
       "      <th>day</th>\n",
       "      <th>hour</th>\n",
       "      <th>PM2.5</th>\n",
       "      <th>PM10</th>\n",
       "      <th>SO2</th>\n",
       "      <th>NO2</th>\n",
       "      <th>CO</th>\n",
       "      <th>O3</th>\n",
       "      <th>TEMP</th>\n",
       "      <th>PRES</th>\n",
       "      <th>DEWP</th>\n",
       "      <th>RAIN</th>\n",
       "      <th>wd</th>\n",
       "      <th>WSPM</th>\n",
       "      <th>station</th>\n",
       "    </tr>\n",
       "  </thead>\n",
       "  <tbody>\n",
       "    <tr>\n",
       "      <th>35059</th>\n",
       "      <td>35060</td>\n",
       "      <td>2017</td>\n",
       "      <td>2</td>\n",
       "      <td>28</td>\n",
       "      <td>19</td>\n",
       "      <td>12.0</td>\n",
       "      <td>29.0</td>\n",
       "      <td>5.0</td>\n",
       "      <td>35.0</td>\n",
       "      <td>400.0</td>\n",
       "      <td>95.0</td>\n",
       "      <td>12.5</td>\n",
       "      <td>1013.5</td>\n",
       "      <td>-16.2</td>\n",
       "      <td>0.0</td>\n",
       "      <td>NW</td>\n",
       "      <td>2.4</td>\n",
       "      <td>Aotizhongxin</td>\n",
       "    </tr>\n",
       "    <tr>\n",
       "      <th>35060</th>\n",
       "      <td>35061</td>\n",
       "      <td>2017</td>\n",
       "      <td>2</td>\n",
       "      <td>28</td>\n",
       "      <td>20</td>\n",
       "      <td>13.0</td>\n",
       "      <td>37.0</td>\n",
       "      <td>7.0</td>\n",
       "      <td>45.0</td>\n",
       "      <td>500.0</td>\n",
       "      <td>81.0</td>\n",
       "      <td>11.6</td>\n",
       "      <td>1013.6</td>\n",
       "      <td>-15.1</td>\n",
       "      <td>0.0</td>\n",
       "      <td>WNW</td>\n",
       "      <td>0.9</td>\n",
       "      <td>Aotizhongxin</td>\n",
       "    </tr>\n",
       "    <tr>\n",
       "      <th>35061</th>\n",
       "      <td>35062</td>\n",
       "      <td>2017</td>\n",
       "      <td>2</td>\n",
       "      <td>28</td>\n",
       "      <td>21</td>\n",
       "      <td>16.0</td>\n",
       "      <td>37.0</td>\n",
       "      <td>10.0</td>\n",
       "      <td>66.0</td>\n",
       "      <td>700.0</td>\n",
       "      <td>58.0</td>\n",
       "      <td>10.8</td>\n",
       "      <td>1014.2</td>\n",
       "      <td>-13.3</td>\n",
       "      <td>0.0</td>\n",
       "      <td>NW</td>\n",
       "      <td>1.1</td>\n",
       "      <td>Aotizhongxin</td>\n",
       "    </tr>\n",
       "    <tr>\n",
       "      <th>35062</th>\n",
       "      <td>35063</td>\n",
       "      <td>2017</td>\n",
       "      <td>2</td>\n",
       "      <td>28</td>\n",
       "      <td>22</td>\n",
       "      <td>21.0</td>\n",
       "      <td>44.0</td>\n",
       "      <td>12.0</td>\n",
       "      <td>87.0</td>\n",
       "      <td>700.0</td>\n",
       "      <td>35.0</td>\n",
       "      <td>10.5</td>\n",
       "      <td>1014.4</td>\n",
       "      <td>-12.9</td>\n",
       "      <td>0.0</td>\n",
       "      <td>NNW</td>\n",
       "      <td>1.2</td>\n",
       "      <td>Aotizhongxin</td>\n",
       "    </tr>\n",
       "    <tr>\n",
       "      <th>35063</th>\n",
       "      <td>35064</td>\n",
       "      <td>2017</td>\n",
       "      <td>2</td>\n",
       "      <td>28</td>\n",
       "      <td>23</td>\n",
       "      <td>19.0</td>\n",
       "      <td>31.0</td>\n",
       "      <td>10.0</td>\n",
       "      <td>79.0</td>\n",
       "      <td>600.0</td>\n",
       "      <td>42.0</td>\n",
       "      <td>8.6</td>\n",
       "      <td>1014.1</td>\n",
       "      <td>-15.9</td>\n",
       "      <td>0.0</td>\n",
       "      <td>NNE</td>\n",
       "      <td>1.3</td>\n",
       "      <td>Aotizhongxin</td>\n",
       "    </tr>\n",
       "  </tbody>\n",
       "</table>\n",
       "</div>"
      ],
      "text/plain": [
       "          No  year  month  day  hour  PM2.5  PM10   SO2   NO2     CO    O3  \\\n",
       "35059  35060  2017      2   28    19   12.0  29.0   5.0  35.0  400.0  95.0   \n",
       "35060  35061  2017      2   28    20   13.0  37.0   7.0  45.0  500.0  81.0   \n",
       "35061  35062  2017      2   28    21   16.0  37.0  10.0  66.0  700.0  58.0   \n",
       "35062  35063  2017      2   28    22   21.0  44.0  12.0  87.0  700.0  35.0   \n",
       "35063  35064  2017      2   28    23   19.0  31.0  10.0  79.0  600.0  42.0   \n",
       "\n",
       "       TEMP    PRES  DEWP  RAIN   wd  WSPM       station  \n",
       "35059  12.5  1013.5 -16.2   0.0   NW   2.4  Aotizhongxin  \n",
       "35060  11.6  1013.6 -15.1   0.0  WNW   0.9  Aotizhongxin  \n",
       "35061  10.8  1014.2 -13.3   0.0   NW   1.1  Aotizhongxin  \n",
       "35062  10.5  1014.4 -12.9   0.0  NNW   1.2  Aotizhongxin  \n",
       "35063   8.6  1014.1 -15.9   0.0  NNE   1.3  Aotizhongxin  "
      ]
     },
     "execution_count": 2,
     "metadata": {},
     "output_type": "execute_result"
    }
   ],
   "source": [
    "df = pd.read_csv(\"PRSA_Data_Aotizhongxin_20130301-20170228.csv\",sep=\",\")\n",
    "df.tail()"
   ]
  },
  {
   "cell_type": "code",
   "execution_count": 3,
   "id": "b4f13d63",
   "metadata": {},
   "outputs": [
    {
     "data": {
      "text/plain": [
       "No         0.000000\n",
       "year       0.000000\n",
       "month      0.000000\n",
       "day        0.000000\n",
       "hour       0.000000\n",
       "PM2.5      2.638033\n",
       "PM10       2.047684\n",
       "SO2        2.666553\n",
       "NO2        2.917522\n",
       "CO         5.065024\n",
       "O3         4.902464\n",
       "TEMP       0.057039\n",
       "PRES       0.057039\n",
       "DEWP       0.057039\n",
       "RAIN       0.057039\n",
       "wd         0.231006\n",
       "WSPM       0.039927\n",
       "station    0.000000\n",
       "dtype: float64"
      ]
     },
     "execution_count": 3,
     "metadata": {},
     "output_type": "execute_result"
    }
   ],
   "source": [
    "(df.isnull().sum()/len(df))*100"
   ]
  },
  {
   "cell_type": "code",
   "execution_count": 4,
   "id": "2ff7cdbf",
   "metadata": {},
   "outputs": [
    {
     "name": "stdout",
     "output_type": "stream",
     "text": [
      "CO   Media\n",
      "O3   Media\n",
      "NO2   Media\n",
      "SO2   moda\n",
      "PM2.5   moda\n",
      "PM10   Media\n",
      "PRES   Media\n",
      "RAIN   moda\n",
      "DEWP   Media\n",
      "TEMP   Media\n",
      "WSPM   moda\n",
      "No   Media\n",
      "year   Media\n",
      "hour   Media\n",
      "day   Media\n",
      "month   Media\n"
     ]
    }
   ],
   "source": [
    "df2 = Inputation(df)"
   ]
  },
  {
   "cell_type": "code",
   "execution_count": 5,
   "id": "7136b22a",
   "metadata": {},
   "outputs": [
    {
     "data": {
      "text/plain": [
       "No          0\n",
       "year        0\n",
       "month       0\n",
       "day         0\n",
       "hour        0\n",
       "PM2.5       0\n",
       "PM10        0\n",
       "SO2         0\n",
       "NO2         0\n",
       "CO          0\n",
       "O3          0\n",
       "TEMP        0\n",
       "PRES        0\n",
       "DEWP        0\n",
       "RAIN        0\n",
       "wd         81\n",
       "WSPM        0\n",
       "station     0\n",
       "dtype: int64"
      ]
     },
     "execution_count": 5,
     "metadata": {},
     "output_type": "execute_result"
    }
   ],
   "source": [
    "df2.isnull().sum()"
   ]
  },
  {
   "cell_type": "code",
   "execution_count": 6,
   "id": "63bbeb1d",
   "metadata": {},
   "outputs": [
    {
     "data": {
      "image/png": "[encoded data removed]",
      "text/plain": [
       "<Figure size 1200x500 with 2 Axes>"
      ]
     },
     "metadata": {},
     "output_type": "display_data"
    }
   ],
   "source": [
    "fig, (ax1, ax2) = plt.subplots(ncols=2, figsize=(12, 5))\n",
    "\n",
    "# Antes\n",
    "ax2.set_title('Despues del Inputation')\n",
    "sns.kdeplot(df2['NO2'], ax=ax2)\n",
    "sns.kdeplot(df2['SO2'], ax=ax2)\n",
    "sns.kdeplot(df2['O3'], ax=ax2)\n",
    "\n",
    "# Despues\n",
    "ax1.set_title('Antes del Inputation')\n",
    "sns.kdeplot(df['NO2'], ax=ax1)\n",
    "sns.kdeplot(df['SO2'], ax=ax1)\n",
    "sns.kdeplot(df['O3'], ax=ax1)\n",
    "plt.show()"
   ]
  },
  {
   "cell_type": "code",
   "execution_count": null,
   "id": "f96e6123",
   "metadata": {},
   "outputs": [],
   "source": []
  }
 ],
 "metadata": {
  "kernelspec": {
   "display_name": "Python 3 (ipykernel)",
   "language": "python",
   "name": "python3"
  },
  "language_info": {
   "codemirror_mode": {
    "name": "ipython",
    "version": 3
   },
   "file_extension": ".py",
   "mimetype": "text/x-python",
   "name": "python",
   "nbconvert_exporter": "python",
   "pygments_lexer": "ipython3",
   "version": "3.8.15"
  }
 },
 "nbformat": 4,
 "nbformat_minor": 5
}
